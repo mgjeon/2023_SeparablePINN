{
 "cells": [
  {
   "cell_type": "code",
   "execution_count": null,
   "metadata": {},
   "outputs": [],
   "source": [
    "# !wget https://hinode.isee.nagoya-u.ac.jp/nlfff_database/v12/11158/20110213/11158_20110213_120000.nc"
   ]
  },
  {
   "cell_type": "code",
   "execution_count": null,
   "metadata": {},
   "outputs": [],
   "source": [
    "import os\n",
    "os.environ[\"XLA_PYTHON_CLIENT_PREALLOCATE\"] = \"false\"\n",
    "os.environ[\"CUDA_VISIBLE_DEVICES\"]= \"0\"\n",
    "\n",
    "import jax \n",
    "import jax.numpy as jnp\n",
    "import optax\n",
    "import time \n",
    "import pickle\n",
    "from tqdm import trange\n",
    "\n",
    "from utils.spinn import SPINN3d, generate_train_data, apply_model_spinn, update_model\n",
    "from utils.data_load import load_nc"
   ]
  },
  {
   "cell_type": "code",
   "execution_count": null,
   "metadata": {},
   "outputs": [],
   "source": [
    "base_path = 'spinn'\n",
    "os.makedirs(base_path, exist_ok=True)\n",
    "save_path = os.path.join(base_path, 'params.pickle')\n",
    "\n",
    "features = 256\n",
    "n_layers = 8 \n",
    "r = 256\n",
    "out_dim = 3 \n",
    "pos_enc = 0 \n",
    "mlp = 'modified_mlp'\n",
    "b_norm = 2500\n",
    "height = 257\n",
    "\n",
    "ncx = 32\n",
    "ncy = 32\n",
    "ncz = 32\n",
    "\n",
    "iterations = 100000\n",
    "log_iter = 10000\n",
    "random_iter = 100\n",
    "lr = 1e-4"
   ]
  },
  {
   "cell_type": "code",
   "execution_count": null,
   "metadata": {},
   "outputs": [],
   "source": [
    "key = jax.random.PRNGKey(0)\n",
    "\n",
    "# make & init model forward function\n",
    "key, subkey = jax.random.split(key, 2)\n",
    "\n",
    "feat_sizes = tuple([features for _ in range(n_layers)]) \n",
    "\n",
    "model = SPINN3d(feat_sizes, r, out_dim, pos_enc, mlp)\n",
    "\n",
    "params = model.init(\n",
    "                key,\n",
    "                jnp.ones((ncx, 1)),\n",
    "                jnp.ones((ncy, 1)),\n",
    "                jnp.ones((ncz, 1))\n",
    "            )\n",
    "\n",
    "apply_fn, params = jax.jit(model.apply), params\n",
    "\n",
    "# count total params\n",
    "total_params = sum(x.size for x in jax.tree_util.tree_leaves(params))\n",
    "\n",
    "# optimizer\n",
    "optim = optax.adam(learning_rate=lr)\n",
    "state = optim.init(params)"
   ]
  },
  {
   "cell_type": "code",
   "execution_count": null,
   "metadata": {},
   "outputs": [
    {
     "data": {
      "text/plain": [
       "((513, 257, 257, 3), (513, 257, 3))"
      ]
     },
     "execution_count": null,
     "metadata": {},
     "output_type": "execute_result"
    }
   ],
   "source": [
    "b_true = load_nc('11158_20110213_120000.nc')\n",
    "\n",
    "b_bottom = b_true[:, :, 0, :]\n",
    "b_true.shape, b_bottom.shape"
   ]
  },
  {
   "cell_type": "code",
   "execution_count": null,
   "metadata": {},
   "outputs": [
    {
     "data": {
      "text/plain": [
       "(513, 257, 257)"
      ]
     },
     "execution_count": null,
     "metadata": {},
     "output_type": "execute_result"
    }
   ],
   "source": [
    "nx, ny, _ = b_bottom.shape\n",
    "nz = height\n",
    "\n",
    "nx, ny, nz"
   ]
  },
  {
   "cell_type": "code",
   "execution_count": null,
   "metadata": {},
   "outputs": [],
   "source": [
    "b_bottom_normalized = b_bottom / b_norm"
   ]
  },
  {
   "cell_type": "code",
   "execution_count": null,
   "metadata": {},
   "outputs": [
    {
     "name": "stderr",
     "output_type": "stream",
     "text": [
      " 10%|█         | 10015/100000 [02:01<12:05, 124.09it/s]"
     ]
    },
    {
     "name": "stdout",
     "output_type": "stream",
     "text": [
      "Iteration: 10000/100000 --> total loss: 0.01025009\n"
     ]
    },
    {
     "name": "stderr",
     "output_type": "stream",
     "text": [
      " 20%|██        | 20023/100000 [03:22<10:46, 123.80it/s]"
     ]
    },
    {
     "name": "stdout",
     "output_type": "stream",
     "text": [
      "Iteration: 20000/100000 --> total loss: 0.06579896\n"
     ]
    },
    {
     "name": "stderr",
     "output_type": "stream",
     "text": [
      " 30%|███       | 30024/100000 [04:43<09:25, 123.73it/s]"
     ]
    },
    {
     "name": "stdout",
     "output_type": "stream",
     "text": [
      "Iteration: 30000/100000 --> total loss: 0.01897338\n"
     ]
    },
    {
     "name": "stderr",
     "output_type": "stream",
     "text": [
      " 40%|████      | 40023/100000 [06:03<08:04, 123.69it/s]"
     ]
    },
    {
     "name": "stdout",
     "output_type": "stream",
     "text": [
      "Iteration: 40000/100000 --> total loss: 0.00432796\n"
     ]
    },
    {
     "name": "stderr",
     "output_type": "stream",
     "text": [
      " 50%|█████     | 50021/100000 [07:24<06:43, 123.85it/s]"
     ]
    },
    {
     "name": "stdout",
     "output_type": "stream",
     "text": [
      "Iteration: 50000/100000 --> total loss: 0.00745599\n"
     ]
    },
    {
     "name": "stderr",
     "output_type": "stream",
     "text": [
      " 60%|██████    | 60020/100000 [08:44<05:23, 123.73it/s]"
     ]
    },
    {
     "name": "stdout",
     "output_type": "stream",
     "text": [
      "Iteration: 60000/100000 --> total loss: 0.00411018\n"
     ]
    },
    {
     "name": "stderr",
     "output_type": "stream",
     "text": [
      " 70%|███████   | 70020/100000 [10:05<04:01, 124.03it/s]"
     ]
    },
    {
     "name": "stdout",
     "output_type": "stream",
     "text": [
      "Iteration: 70000/100000 --> total loss: 0.07731351\n"
     ]
    },
    {
     "name": "stderr",
     "output_type": "stream",
     "text": [
      " 80%|████████  | 80020/100000 [11:25<02:41, 123.87it/s]"
     ]
    },
    {
     "name": "stdout",
     "output_type": "stream",
     "text": [
      "Iteration: 80000/100000 --> total loss: 0.06275281\n"
     ]
    },
    {
     "name": "stderr",
     "output_type": "stream",
     "text": [
      " 90%|█████████ | 90019/100000 [12:46<01:20, 124.03it/s]"
     ]
    },
    {
     "name": "stdout",
     "output_type": "stream",
     "text": [
      "Iteration: 90000/100000 --> total loss: 0.00272743\n"
     ]
    },
    {
     "name": "stderr",
     "output_type": "stream",
     "text": [
      "100%|██████████| 100000/100000 [14:06<00:00, 118.11it/s]\n"
     ]
    },
    {
     "name": "stdout",
     "output_type": "stream",
     "text": [
      "Iteration: 100000/100000 --> total loss: 0.03043940\n",
      "Runtime --> total: 805.34sec (8.05ms/iter.)\n"
     ]
    }
   ],
   "source": [
    "# dataset\n",
    "key, subkey = jax.random.split(key, 2)\n",
    "xc, yc, zc, xb, yb, zb = generate_train_data(ncx, ncy, ncz, nx, ny, nz, subkey)\n",
    "\n",
    "# start training\n",
    "for e in trange(1, iterations + 1):\n",
    "    if e == 2:\n",
    "        # exclude compiling time\n",
    "        start = time.time()\n",
    "\n",
    "    if e % random_iter == 0:\n",
    "        key, subkey = jax.random.split(key, 2)\n",
    "        xc, yc, zc, xb, yb, zb = generate_train_data(ncx, ncy, ncz, nx, ny, nz, subkey)\n",
    "\n",
    "    loss, gradient = apply_model_spinn(apply_fn, params, xc, yc, zc, xb, yb, zb, b_bottom_normalized)\n",
    "    params, state = update_model(optim, gradient, params, state)\n",
    "\n",
    "    # log\n",
    "    if e % log_iter == 0:\n",
    "        print(f'Iteration: {e}/{iterations} --> total loss: {loss:.8f}')\n",
    "\n",
    "# training done\n",
    "runtime = time.time() - start\n",
    "print(f'Runtime --> total: {runtime:.2f}sec ({(runtime/(iterations-1)*1000):.2f}ms/iter.)')\n",
    "with open(save_path, \"wb\") as f:\n",
    "    pickle.dump(params, f)"
   ]
  },
  {
   "cell_type": "code",
   "execution_count": null,
   "metadata": {},
   "outputs": [],
   "source": []
  }
 ],
 "metadata": {
  "kernelspec": {
   "display_name": "python3",
   "language": "python",
   "name": "python3"
  }
 },
 "nbformat": 4,
 "nbformat_minor": 2
}
