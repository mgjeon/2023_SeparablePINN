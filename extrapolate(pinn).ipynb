{
 "cells": [
  {
   "cell_type": "code",
   "execution_count": null,
   "metadata": {},
   "outputs": [],
   "source": [
    "# !pip install -q git+https://github.com/RobertJaro/NF2.git\n",
    "# !wget https://hinode.isee.nagoya-u.ac.jp/nlfff_database/v12/11158/20110213/11158_20110213_120000.nc"
   ]
  },
  {
   "cell_type": "code",
   "execution_count": null,
   "metadata": {},
   "outputs": [],
   "source": [
    "import os\n",
    "os.environ['CUDA_VISIBLE_DEVICES'] = '0'\n",
    "import time\n",
    "import torch\n",
    "from pytorch_lightning import Trainer\n",
    "from pytorch_lightning.loggers import WandbLogger\n",
    "from pytorch_lightning.callbacks import ModelCheckpoint, LambdaCallback\n",
    "\n",
    "from nf2.train.module import NF2Module, save\n",
    "from nf2.evaluation.unpack import load_cube\n",
    "\n",
    "from utils.data_load import load_nc\n",
    "from utils.data_loader import ArrayDataModule"
   ]
  },
  {
   "cell_type": "code",
   "execution_count": null,
   "metadata": {},
   "outputs": [],
   "source": [
    "base_path = 'pinn'\n",
    "os.makedirs(base_path, exist_ok=True)\n",
    "save_path = os.path.join(base_path, 'extrapolation_result.nf2')\n",
    "\n",
    "data_args = {\n",
    "                \"bin\": 1,\n",
    "                \"height_mapping\": {\"z\":  [0.0]},\n",
    "                \"Mm_per_pixel\": 1,\n",
    "                \"boundary\": {\"type\":  \"open\"},\n",
    "                \"height\": 257,\n",
    "                \"b_norm\": 2500,\n",
    "                \"spatial_norm\": 320,\n",
    "                \"batch_size\": {\"boundary\":  1e4, \"random\":  2e4},\n",
    "                \"iterations\": 100000,\n",
    "                \"work_directory\": \"tmp/isee_11158\",\n",
    "                \"num_workers\": 8\n",
    "             }\n",
    "\n",
    "model_args = {\n",
    "                \"dim\": 256, \n",
    "                \"use_vector_potential\": False\n",
    "             }\n",
    "\n",
    "training_args = {\n",
    "                    \"max_epochs\": 1,\n",
    "                    \"lambda_b\": {\"start\": 1e3, \"end\": 1, \"iterations\" : 5e4},\n",
    "                    \"lambda_div\": 1e-1,\n",
    "                    \"lambda_ff\": 1e-1,\n",
    "                    \"lambda_height_reg\": 1e-3,\n",
    "                    \"validation_interval\": 10000,\n",
    "                    \"lr_params\": {\"start\": 5e-4, \"end\": 5e-5, \"decay_iterations\": 1e5}\n",
    "                }\n",
    "\n",
    "config = {'data': data_args, 'model': model_args, 'training': training_args}"
   ]
  },
  {
   "cell_type": "code",
   "execution_count": null,
   "metadata": {},
   "outputs": [
    {
     "data": {
      "text/plain": [
       "((513, 257, 257, 3), (513, 257, 1, 3))"
      ]
     },
     "execution_count": null,
     "metadata": {},
     "output_type": "execute_result"
    }
   ],
   "source": [
    "b_true = load_nc('11158_20110213_120000.nc')\n",
    "\n",
    "b_bottom = b_true[:, :, 0, :][:, :, None, :]\n",
    "b_true.shape, b_bottom.shape"
   ]
  },
  {
   "cell_type": "code",
   "execution_count": null,
   "metadata": {},
   "outputs": [],
   "source": [
    "wandb_logger = WandbLogger(project=\"nf2\", name=\"11158_20110213_120000\", offline=False, \n",
    "                           entity=\"mgjeon\", id=None, dir=base_path, log_model=\"all\")"
   ]
  },
  {
   "cell_type": "code",
   "execution_count": null,
   "metadata": {},
   "outputs": [],
   "source": [
    "data_module = ArrayDataModule(b_bottom, **data_args)"
   ]
  },
  {
   "cell_type": "code",
   "execution_count": null,
   "metadata": {},
   "outputs": [],
   "source": [
    "validation_settings = {'cube_shape': data_module.cube_dataset.coords_shape,\n",
    "                       'gauss_per_dB': data_args['b_norm'],\n",
    "                       'Mm_per_ds': data_module.Mm_per_pixel * data_args['spatial_norm']}\n",
    "\n",
    "nf2 = NF2Module(validation_settings, **model_args, **training_args)"
   ]
  },
  {
   "cell_type": "code",
   "execution_count": null,
   "metadata": {},
   "outputs": [],
   "source": [
    "save_callback = LambdaCallback(on_validation_end=lambda *args: \n",
    "                              save(save_path, nf2.model, data_module, config, nf2.height_mapping_model))\n",
    "checkpoint_callback = ModelCheckpoint(dirpath=base_path,\n",
    "                                      every_n_train_steps=training_args['validation_interval'],\n",
    "                                      save_last=True)"
   ]
  },
  {
   "cell_type": "code",
   "execution_count": null,
   "metadata": {},
   "outputs": [
    {
     "name": "stderr",
     "output_type": "stream",
     "text": [
      "GPU available: True (cuda), used: True\n",
      "TPU available: False, using: 0 TPU cores\n",
      "IPU available: False, using: 0 IPUs\n",
      "HPU available: False, using: 0 HPUs\n"
     ]
    }
   ],
   "source": [
    "n_gpus = torch.cuda.device_count()\n",
    "trainer = Trainer(max_epochs=1,\n",
    "                  logger=wandb_logger,\n",
    "                  devices=n_gpus if n_gpus >= 1 else None,\n",
    "                  accelerator='gpu' if n_gpus >= 1 else None,\n",
    "                  strategy='dp' if n_gpus > 1 else None,\n",
    "                  num_sanity_val_steps=0,\n",
    "                  val_check_interval=training_args['validation_interval'],\n",
    "                  gradient_clip_val=0.1,\n",
    "                  callbacks=[checkpoint_callback, save_callback], )"
   ]
  },
  {
   "cell_type": "code",
   "execution_count": null,
   "metadata": {},
   "outputs": [],
   "source": [
    "# Runtime --> total: 8913.14sec\n",
    "start = time.time()\n",
    "\n",
    "trainer.fit(nf2, data_module, ckpt_path='last')\n",
    "\n",
    "runtime = time.time() - start\n",
    "print(f'Runtime --> total: {runtime:.2f}sec')"
   ]
  },
  {
   "cell_type": "code",
   "execution_count": null,
   "metadata": {},
   "outputs": [],
   "source": [
    "save(save_path, nf2.model, data_module, config, nf2.height_mapping_model)"
   ]
  },
  {
   "cell_type": "code",
   "execution_count": null,
   "metadata": {},
   "outputs": [],
   "source": []
  }
 ],
 "metadata": {
  "kernelspec": {
   "display_name": "python3",
   "language": "python",
   "name": "python3"
  }
 },
 "nbformat": 4,
 "nbformat_minor": 2
}
